{
 "cells": [
  {
   "cell_type": "code",
   "execution_count": null,
   "metadata": {},
   "outputs": [],
   "source": [
    "import pandas as pd\n",
    "\n",
    "from src import (\n",
    "    Dataset,\n",
    "    resample_data_by_10min,\n",
    "    generate_full_data,\n",
    "    filter_nan_days,\n",
    "    encode_datetime,\n",
    "    merge_external,\n",
    "    parse_target,\n",
    "    post_process,\n",
    "    calculate_metrics,\n",
    ")"
   ]
  },
  {
   "cell_type": "code",
   "execution_count": null,
   "metadata": {},
   "outputs": [],
   "source": [
    "class CustomDataset(Dataset):\n",
    "    def pre_process(self, train_data, test_data, upload):\n",
    "        dataset = {\"train\": {}, \"test\": {}}\n",
    "        feature = [\n",
    "            \"LocationCode\", \"month\", \"day\", \"hour\", \"minute\", \"timestamp\",\n",
    "            \"PS01\",\"PS02\",\"TX01\",\"TD01\",\"RH01\",\"WD01\",\"WD02\",\"WD07\",\"WD08\",\"PP01\",\"SS01\",\"GR01\",\"TS03\"\n",
    "        ]\n",
    "\n",
    "        train_data = (\n",
    "            generate_full_data(train_data, start_time=\"09:00\", end_time=\"16:59\")\n",
    "            .pipe(resample_data_by_10min)\n",
    "            .pipe(filter_nan_days)\n",
    "            .pipe(merge_external, external_file=\"data/10min.csv\")\n",
    "            .pipe(encode_datetime)\n",
    "        )\n",
    "\n",
    "        dataset[\"train\"] = {\"X\": train_data[feature], \"y\": train_data[\"Power(mW)\"]}\n",
    "\n",
    "        if test_data is not None and upload is not None:\n",
    "            dataset[\"test\"][\"X\"] = (\n",
    "                parse_target(upload)\n",
    "                .pipe(merge_external, external_file=\"data/10min.csv\")\n",
    "                .pipe(encode_datetime)\n",
    "            )[feature]\n",
    "\n",
    "        return dataset\n",
    "\n",
    "dataset = CustomDataset(\n",
    "    train_file=\"./data/all_data.csv\",\n",
    "    test_file=\"./data/all_data.csv\",\n",
    "    upload_file=\"./data/upload.csv\"\n",
    ")\n",
    "print(dataset)"
   ]
  },
  {
   "cell_type": "code",
   "execution_count": null,
   "metadata": {},
   "outputs": [],
   "source": [
    "from catboost import CatBoostRegressor\n",
    "model = CatBoostRegressor(iterations=1e7, verbose=100000, task_type=\"GPU\")\n",
    "model.fit(dataset[\"train\"][\"X\"], dataset[\"train\"][\"y\"])\n",
    "model.save_model(\"model.cbm\")\n",
    "calculate_metrics(dataset[\"train\"][\"y\"], model.predict(dataset[\"train\"][\"X\"]))"
   ]
  },
  {
   "cell_type": "code",
   "execution_count": null,
   "metadata": {},
   "outputs": [],
   "source": [
    "predictions = model.predict(dataset[\"test\"][\"X\"])\n",
    "upload = pd.read_csv(\"data/upload.csv\")\n",
    "upload[\"答案\"] = post_process(predictions)\n",
    "upload.to_csv(\"submission.csv\", index=False)"
   ]
  }
 ],
 "metadata": {
  "kernelspec": {
   "display_name": "aicup",
   "language": "python",
   "name": "python3"
  },
  "language_info": {
   "codemirror_mode": {
    "name": "ipython",
    "version": 3
   },
   "file_extension": ".py",
   "mimetype": "text/x-python",
   "name": "python",
   "nbconvert_exporter": "python",
   "pygments_lexer": "ipython3",
   "version": "3.12.5"
  }
 },
 "nbformat": 4,
 "nbformat_minor": 2
}
