{
 "cells": [
  {
   "cell_type": "code",
   "execution_count": null,
   "metadata": {},
   "outputs": [],
   "source": [
    "import numpy as np\n",
    "import pandas as pd\n",
    "from sklearn.linear_model import LinearRegression\n",
    "from sklearn.preprocessing import MinMaxScaler\n",
    "\n",
    "from src import (\n",
    "    Model, Trainer, Dataset,\n",
    "    resample_data_by_10min,\n",
    "    create_time_series_data,\n",
    "    evaluate_predictions\n",
    ")"
   ]
  },
  {
   "cell_type": "code",
   "execution_count": null,
   "metadata": {},
   "outputs": [],
   "source": [
    "models = {\n",
    "    \"regression\": {\n",
    "        \"Linear Regression\": LinearRegression(),\n",
    "    },\n",
    "    \"time_series\": {\n",
    "        \"LSTM\": Model(\"LSTM\"),\n",
    "    },\n",
    "}\n",
    "\n",
    "trainer = Trainer(models)"
   ]
  },
  {
   "cell_type": "code",
   "execution_count": null,
   "metadata": {},
   "outputs": [],
   "source": [
    "class CustomDataset(Dataset):\n",
    "    def pre_process(self, train_data, test_data, target):\n",
    "        look_back_num = 12\n",
    "        scaler = MinMaxScaler()\n",
    "        features = [\n",
    "            \"WindSpeed(m/s)\", \n",
    "            \"Pressure(hpa)\", \n",
    "            \"Temperature(°C)\", \n",
    "            \"Humidity(%)\", \n",
    "            \"Sunlight(Lux)\"\n",
    "        ]\n",
    "\n",
    "        train_data = resample_data_by_10min(train_data)\n",
    "        train_data.interpolate(inplace=True)\n",
    "\n",
    "        x_train = train_data[features].values\n",
    "        y_train = train_data[[\"Power(mW)\"]].values\n",
    "\n",
    "        x_train = scaler.fit_transform(x_train)\n",
    "        x_ts, y_ts = create_time_series_data(x_train, look_back_num=look_back_num)\n",
    "\n",
    "        dataset = {\n",
    "            \"train\": {\n",
    "                \"regression\": {\"x\": x_train, \"y\": y_train},\n",
    "                \"time_series\": {\"x\": x_ts, \"y\": y_ts}\n",
    "            }\n",
    "        }\n",
    "\n",
    "        if test_data is not None:\n",
    "            test_data = resample_data_by_10min(test_data)\n",
    "            test_data.interpolate(inplace=True)\n",
    "\n",
    "            x = np.array([\n",
    "                scaler.transform(\n",
    "                    test_data[\n",
    "                        (test_data[\"LocationCode\"] == int(row[\"LocationCode\"])) &\n",
    "                        (test_data[\"DateTime\"].dt.date == row[\"Datetime\"].date()) &\n",
    "                        (test_data[\"DateTime\"].dt.time < pd.Timestamp(\"09:00\").time())\n",
    "                    ]\n",
    "                    .sort_values(by=\"DateTime\", ascending=False)[features]\n",
    "                    .head(look_back_num)\n",
    "                    .values\n",
    "                )\n",
    "                for _, row in target.iterrows()\n",
    "            ])\n",
    "        \n",
    "            dataset[\"test\"] = {\n",
    "                \"x\": x,\n",
    "                \"序號\": target[\"序號\"].values\n",
    "            }\n",
    "\n",
    "        return dataset\n",
    "\n",
    "dataset = CustomDataset(train_file=\"./data/train.csv\", test_file=\"./data/test.csv\", target_file=\"./data/target.csv\")\n",
    "print(dataset)"
   ]
  },
  {
   "cell_type": "code",
   "execution_count": null,
   "metadata": {},
   "outputs": [],
   "source": [
    "trainer.train(dataset[\"train\"])"
   ]
  },
  {
   "cell_type": "code",
   "execution_count": null,
   "metadata": {},
   "outputs": [],
   "source": [
    "predictions = trainer.predict(dataset[\"test\"])\n",
    "predictions.to_csv(\"./data/predictions.csv\", index=False)\n",
    "predictions"
   ]
  },
  {
   "cell_type": "code",
   "execution_count": null,
   "metadata": {},
   "outputs": [],
   "source": [
    "evaluate_predictions(target_file=\"data/target.csv\", prediction_file=\"./data/predictions.csv\")"
   ]
  }
 ],
 "metadata": {
  "kernelspec": {
   "display_name": "aicup",
   "language": "python",
   "name": "python3"
  },
  "language_info": {
   "codemirror_mode": {
    "name": "ipython",
    "version": 3
   },
   "file_extension": ".py",
   "mimetype": "text/x-python",
   "name": "python",
   "nbconvert_exporter": "python",
   "pygments_lexer": "ipython3",
   "version": "3.12.5"
  }
 },
 "nbformat": 4,
 "nbformat_minor": 2
}
