{
 "cells": [
  {
   "cell_type": "code",
   "execution_count": null,
   "metadata": {},
   "outputs": [],
   "source": [
    "import pandas as pd\n",
    "from sklearn.pipeline import Pipeline\n",
    "\n",
    "from src import (\n",
    "    Dataset, Model,\n",
    "    resample_data_by_10min,\n",
    "    generate_full_data,\n",
    "    filter_nan_days,\n",
    "    encode_datetime,\n",
    "    merge_external,\n",
    "    create_samples,\n",
    "    post_process,\n",
    "    evaluate\n",
    ")"
   ]
  },
  {
   "cell_type": "code",
   "execution_count": null,
   "metadata": {},
   "outputs": [],
   "source": [
    "class CustomDataset(Dataset):\n",
    "    def pre_process(self, train_data, test_data, target):\n",
    "        dataset = {}\n",
    "\n",
    "        dataset[\"train\"] = (\n",
    "            generate_full_data(train_data, start_time=\"07:00\", end_time=\"16:59\")\n",
    "            .pipe(resample_data_by_10min)\n",
    "            .pipe(filter_nan_days)\n",
    "            .pipe(merge_external, external_file=\"data/10min.csv\")\n",
    "            .pipe(encode_datetime)\n",
    "            .pipe(create_samples, subtract_prev=True, flatten=True)\n",
    "        )\n",
    "\n",
    "        if test_data is not None and target is not None:\n",
    "            dataset[\"test\"] = (\n",
    "                generate_full_data(test_data, start_time=\"07:00\", end_time=\"16:59\")\n",
    "                .pipe(resample_data_by_10min)\n",
    "                .pipe(merge_external, external_file=\"data/10min.csv\")\n",
    "                .pipe(encode_datetime)\n",
    "                .pipe(create_samples, target=target, subtract_prev=True, flatten=True)\n",
    "            )\n",
    "\n",
    "        return dataset\n",
    "\n",
    "dataset = CustomDataset(\n",
    "    train_file=\"./data/train.csv\",\n",
    "    test_file=\"./data/test.csv\",\n",
    "    target_file=\"./data/target.csv\",\n",
    ")\n",
    "print(dataset)"
   ]
  },
  {
   "cell_type": "code",
   "execution_count": null,
   "metadata": {},
   "outputs": [],
   "source": [
    "pipeline = Pipeline([\n",
    "    (\"MLP\", Model(\"MLP\", epochs=1000))\n",
    "])\n",
    "pipeline.fit(**dataset[\"train\"])\n",
    "predictions = pipeline.predict(dataset[\"test\"][\"X\"])\n",
    "predictions"
   ]
  },
  {
   "cell_type": "code",
   "execution_count": null,
   "metadata": {},
   "outputs": [],
   "source": [
    "target = pd.read_csv(\"data/target.csv\")\n",
    "\n",
    "predictions += dataset[\"test\"][\"prev_y\"]\n",
    "target[\"答案\"] = post_process(predictions)\n",
    "\n",
    "target.to_csv(\"./data/predictions.csv\", index=False)\n",
    "evaluate(target_file=\"data/target.csv\", prediction_file=\"./data/predictions.csv\")\n"
   ]
  },
  {
   "cell_type": "markdown",
   "metadata": {},
   "source": [
    "# ⏮️ Previous day"
   ]
  },
  {
   "cell_type": "code",
   "execution_count": null,
   "metadata": {},
   "outputs": [],
   "source": [
    "target = pd.read_csv(\"data/target.csv\")\n",
    "target[\"答案\"] = dataset[\"test\"][\"prev_y\"].ravel()\n",
    "target.to_csv(\"./data/predictions.csv\", index=False)\n",
    "evaluate(target_file=\"data/target.csv\", prediction_file=\"./data/predictions.csv\")"
   ]
  }
 ],
 "metadata": {
  "kernelspec": {
   "display_name": "aicup",
   "language": "python",
   "name": "python3"
  },
  "language_info": {
   "codemirror_mode": {
    "name": "ipython",
    "version": 3
   },
   "file_extension": ".py",
   "mimetype": "text/x-python",
   "name": "python",
   "nbconvert_exporter": "python",
   "pygments_lexer": "ipython3",
   "version": "3.12.5"
  }
 },
 "nbformat": 4,
 "nbformat_minor": 2
}
