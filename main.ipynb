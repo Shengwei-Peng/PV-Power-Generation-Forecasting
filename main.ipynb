{
 "cells": [
  {
   "cell_type": "code",
   "execution_count": null,
   "metadata": {},
   "outputs": [],
   "source": [
    "from src import get_dataset, show_data_shapes\n",
    "\n",
    "dataset = get_dataset(train_file=\"./data/train.csv\")\n",
    "show_data_shapes(dataset)"
   ]
  },
  {
   "cell_type": "code",
   "execution_count": null,
   "metadata": {},
   "outputs": [],
   "source": [
    "from sklearn.linear_model import LinearRegression\n",
    "\n",
    "from src import Model, Trainer\n",
    "\n",
    "models = {\n",
    "    \"regression\": {\n",
    "        \"Linear Regression\": LinearRegression(),\n",
    "    },\n",
    "    \"time_series\": {\n",
    "        \"LSTM\": Model(\"LSTM\", epochs=1),\n",
    "    },\n",
    "}\n",
    "trainer = Trainer(\n",
    "    models=models,\n",
    "    train_file=\"./data/train.csv\"\n",
    ")"
   ]
  },
  {
   "cell_type": "code",
   "execution_count": null,
   "metadata": {},
   "outputs": [],
   "source": [
    "trainer.train()"
   ]
  }
 ],
 "metadata": {
  "kernelspec": {
   "display_name": "aicup",
   "language": "python",
   "name": "python3"
  },
  "language_info": {
   "codemirror_mode": {
    "name": "ipython",
    "version": 3
   },
   "file_extension": ".py",
   "mimetype": "text/x-python",
   "name": "python",
   "nbconvert_exporter": "python",
   "pygments_lexer": "ipython3",
   "version": "3.12.5"
  }
 },
 "nbformat": 4,
 "nbformat_minor": 2
}
